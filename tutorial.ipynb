{
 "cells": [
  {
   "cell_type": "code",
   "execution_count": 1,
   "metadata": {},
   "outputs": [],
   "source": [
    "import ants\n",
    "#import numpy as np\n",
    "import os"
   ]
  },
  {
   "cell_type": "code",
   "execution_count": 2,
   "metadata": {},
   "outputs": [],
   "source": [
    "_atlas_fiber_DTI_path = \"tissue_reconstruction/data/FSL_HCP1065_tensor_1mm_space-HPC-AntsIndexSpace_SRI.nii.gz\"\n",
    "_atlas_t1_path = \"tissue_reconstruction/data/sub-mni152_t1-inside-brain_space-sri.nii.gz\"\n",
    "_patient_path = \"tissue_reconstruction/data/sample_patient.nii.gz\"\n",
    "\n",
    "\n",
    "tensor_image = ants.image_read(_atlas_fiber_DTI_path)\n",
    "atlas_t1 = ants.image_read(_atlas_t1_path)\n",
    "patient = ants.image_read(_patient_path)\n",
    "\n",
    "reg = ants.registration(patient, atlas_t1, \"SyN\")\n",
    "\n",
    "transform = reg['fwdtransforms']\n",
    "\n"
   ]
  },
  {
   "cell_type": "code",
   "execution_count": 3,
   "metadata": {},
   "outputs": [
    {
     "name": "stdout",
     "output_type": "stream",
     "text": [
      "ANTsImage (LPI)\n",
      "\t Pixel Type : float (float32)\n",
      "\t Components : 6\n",
      "\t Dimensions : (240, 240, 155)\n",
      "\t Spacing    : (1.0, 1.0, 1.0)\n",
      "\t Origin     : (239.0, 0.0, 0.0)\n",
      "\t Direction  : [-1.  0.  0.  0. -1.  0.  0.  0.  1.]\n",
      "\n"
     ]
    }
   ],
   "source": [
    "print(tensor_image)\n"
   ]
  },
  {
   "cell_type": "code",
   "execution_count": 5,
   "metadata": {},
   "outputs": [
    {
     "name": "stdout",
     "output_type": "stream",
     "text": [
      "ANTsImage (RAI)\n",
      "\t Pixel Type : float (float32)\n",
      "\t Components : 6\n",
      "\t Dimensions : (240, 240, 155)\n",
      "\t Spacing    : (1.0, 1.0, 1.0)\n",
      "\t Origin     : (-0.0, -239.0, 0.0)\n",
      "\t Direction  : [1. 0. 0. 0. 1. 0. 0. 0. 1.]\n",
      "\n",
      "ReorientTensorImage 3 ./transformed_dti.nii.gz ./transformed_rotated_dti.nii.gz /tmp/tmpjhjdodjs1Warp.nii.gz\n"
     ]
    },
    {
     "name": "stderr",
     "output_type": "stream",
     "text": [
      "sh: 1: ReorientTensorImage: not found\n"
     ]
    }
   ],
   "source": [
    "def transform_tensor_img(fixed_image, dti_img, fwd_transform_paths):\n",
    "    # 1. Split into Six components\n",
    "    dti_components = ants.split_channels(dti_img)\n",
    "    #print(dti_components)\n",
    "\n",
    "    # 2. Transform every component\n",
    "    transformed_components = []\n",
    "    for component in dti_components:\n",
    "        transformed_component = ants.apply_transforms(fixed=fixed_image, \n",
    "                                                    moving=component, \n",
    "                                                    transformlist=fwd_transform_paths)\n",
    "        transformed_components.append(transformed_component)\n",
    "    transformed_dti_img = ants.merge_channels(transformed_components)\n",
    "\n",
    "    print(transformed_dti_img)\n",
    "    \n",
    "    # 3. Reorient Image ?!\n",
    "    transformed_dti_save_path = \"./transformed_dti.nii.gz\"\n",
    "    transformed_rotated_dti_save_path = \"./transformed_rotated_dti.nii.gz\"\n",
    "\n",
    "    ants.image_write(transformed_dti_img, transformed_dti_save_path)\n",
    "\n",
    "    reorientTensor = f\"ReorientTensorImage 3 {transformed_dti_save_path} {transformed_rotated_dti_save_path} {fwd_transform_paths[0]}\"\n",
    "    os.system(reorientTensor) \n",
    "    print(reorientTensor)\n",
    "\n",
    "\n",
    "\n",
    "transform_tensor_img(patient, tensor_image, transform)"
   ]
  },
  {
   "cell_type": "code",
   "execution_count": null,
   "metadata": {},
   "outputs": [],
   "source": []
  }
 ],
 "metadata": {
  "kernelspec": {
   "display_name": ".venv",
   "language": "python",
   "name": "python3"
  },
  "language_info": {
   "codemirror_mode": {
    "name": "ipython",
    "version": 3
   },
   "file_extension": ".py",
   "mimetype": "text/x-python",
   "name": "python",
   "nbconvert_exporter": "python",
   "pygments_lexer": "ipython3",
   "version": "3.8.10"
  }
 },
 "nbformat": 4,
 "nbformat_minor": 2
}
