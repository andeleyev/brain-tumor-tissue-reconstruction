{
 "cells": [
  {
   "cell_type": "code",
   "execution_count": 1,
   "metadata": {},
   "outputs": [],
   "source": [
    "import ants\n",
    "import numpy as np\n",
    "import os"
   ]
  },
  {
   "cell_type": "code",
   "execution_count": 2,
   "metadata": {},
   "outputs": [],
   "source": [
    "_atlas_fiber_DTI_path = \"tissue_reconstruction/data/FSL_HCP1065_tensor_1mm_space-HPC-AntsIndexSpace_SRI.nii.gz\"\n",
    "_atlas_t1_path = \"tissue_reconstruction/data/sub-mni152_t1-inside-brain_space-sri.nii.gz\"\n",
    "_patient_path = \"tissue_reconstruction/data/sample_patient.nii.gz\"\n",
    "\n",
    "_scalar_DTI_path = \"tissue_reconstruction/data/FSL_HCP1065_FA_1mm_space-sri.nii.gz\"\n",
    "\n",
    "\n",
    "\n",
    "tensor_image = ants.image_read(_atlas_fiber_DTI_path)\n",
    "atlas_t1 = ants.image_read(_atlas_t1_path)\n",
    "patient = ants.image_read(_patient_path)\n",
    "\n",
    "scalar_dti= ants.image_read(_scalar_DTI_path)\n",
    "\n",
    "reg = ants.registration(patient, atlas_t1, \"SyN\")\n",
    "\n",
    "transform = reg['fwdtransforms']\n",
    "\n"
   ]
  },
  {
   "cell_type": "code",
   "execution_count": 3,
   "metadata": {},
   "outputs": [
    {
     "name": "stdout",
     "output_type": "stream",
     "text": [
      "ANTsImage (LPI)\n",
      "\t Pixel Type : float (float32)\n",
      "\t Components : 6\n",
      "\t Dimensions : (240, 240, 155)\n",
      "\t Spacing    : (1.0, 1.0, 1.0)\n",
      "\t Origin     : (239.0, 0.0, 0.0)\n",
      "\t Direction  : [-1.  0.  0.  0. -1.  0.  0.  0.  1.]\n",
      "\n"
     ]
    }
   ],
   "source": [
    "print(tensor_image)\n"
   ]
  },
  {
   "cell_type": "code",
   "execution_count": null,
   "metadata": {},
   "outputs": [],
   "source": [
    "from tqdm import tqdm\n",
    "\n",
    "def reorient_tensor_image(patient, dti_image, warp):\n",
    "       # Step 1: Split the 6-component DTI image\n",
    "    dti_components = ants.split_channels(dti_image)\n",
    "    \n",
    "    # Step 2: Compute the Jacobian of the warp field\n",
    "    jacobian_image = ants.create_jacobian_determinant_image(patient, warp, do_log=False)\n",
    "    jacobian = jacobian_image.numpy()  # Convert to NumPy for easier manipulation\n",
    "    \n",
    "    # Initialize an empty array for the transformed components\n",
    "    shape = dti_components[0].shape\n",
    "    reoriented_dti = np.zeros((shape[0], shape[1], shape[2], 6))  # 6 components at each voxel\n",
    "    \n",
    "    # Step 3: Loop over each voxel and reorient the tensor\n",
    "    for x in tqdm(range(shape[0])):\n",
    "        for y in range(shape[1]):\n",
    "            for z in range(shape[2]):\n",
    "                # Get the tensor components at this voxel\n",
    "                Dxx = dti_components[0][x, y, z]\n",
    "                Dyy = dti_components[1][x, y, z]\n",
    "                Dzz = dti_components[2][x, y, z]\n",
    "                Dxy = dti_components[3][x, y, z]\n",
    "                Dxz = dti_components[4][x, y, z]\n",
    "                Dyz = dti_components[5][x, y, z]\n",
    "\n",
    "                # Reconstruct the 3x3 tensor matrix\n",
    "                T = np.array([[Dxx, Dxy, Dxz],\n",
    "                              [Dxy, Dyy, Dyz],\n",
    "                              [Dxz, Dyz, Dzz]])\n",
    "\n",
    "                # Get the Jacobian matrix at this voxel (3x3 matrix)\n",
    "                J = np.array(jacobian[x, y, z])\n",
    "\n",
    "                # Reorient the tensor: T' = J * T * J^T\n",
    "                reoriented_T = np.dot(J, np.dot(T, J.T))\n",
    "\n",
    "                # Store the reoriented tensor components back into the image\n",
    "                reoriented_dti[x, y, z, 0] = reoriented_T[0, 0]  # Dxx\n",
    "                reoriented_dti[x, y, z, 1] = reoriented_T[1, 1]  # Dyy\n",
    "                reoriented_dti[x, y, z, 2] = reoriented_T[2, 2]  # Dzz\n",
    "                reoriented_dti[x, y, z, 3] = reoriented_T[0, 1]  # Dxy\n",
    "                reoriented_dti[x, y, z, 4] = reoriented_T[0, 2]  # Dxz\n",
    "                reoriented_dti[x, y, z, 5] = reoriented_T[1, 2]  # Dyz\n",
    "\n",
    "    # Step 4: Create an ANTsImage for the reoriented tensor\n",
    "    reoriented_dti_image = ants.from_numpy(reoriented_dti, origin=dti_image.origin, spacing=dti_image.spacing, direction=dti_image.direction)\n",
    "    return reoriented_dti_image"
   ]
  },
  {
   "cell_type": "code",
   "execution_count": 7,
   "metadata": {},
   "outputs": [],
   "source": [
    "def transform_tensor_img(fixed_image, dti_img, fwd_transform_paths):\n",
    "    # preproccesing: Combine the transforms into one warp: TODO\n",
    "    warp = fwd_transform_paths[0]\n",
    "    \n",
    "    # 1. Split into Six components\n",
    "    dti_components = ants.split_channels(dti_img)\n",
    "    #print(dti_components)\n",
    "\n",
    "    # 2. Transform every component\n",
    "    transformed_components = []\n",
    "    for component in dti_components:\n",
    "        transformed_component = ants.apply_transforms(fixed=fixed_image, \n",
    "                                                    moving=component, \n",
    "                                                    transformlist=fwd_transform_paths)\n",
    "        transformed_components.append(transformed_component)\n",
    "    transformed_dti_img = ants.merge_channels(transformed_components)\n",
    "\n",
    "    print(transformed_dti_img)\n",
    "    \n",
    "    # 3. Reorient Image ?!\n",
    "    transformed_dti_save_path = \"out/transformed_dti.nii.gz\"\n",
    "    transformed_rotated_dti_save_path = \"out/transformed_rotated_dti.nii.gz\"\n",
    "\n",
    "    ants.image_write(transformed_dti_img, transformed_dti_save_path)\n",
    "\n",
    "    reorientTensorCmd = f\"ReorientTensorImage 3 {transformed_dti_save_path} {transformed_rotated_dti_save_path} {warp}\"\n",
    "    os.system(reorientTensorCmd) \n",
    "\n",
    "\n",
    "def transform_tensor_img_my(fixed_image, dti_img, fwd_transform_paths):\n",
    "    # preproccesing: Combine the transforms into one warp: TODO\n",
    "    warp = fwd_transform_paths[0]\n",
    "\n",
    "    # 1. Split into Six components\n",
    "    dti_components = ants.split_channels(dti_img)\n",
    "\n",
    "    #print(dti_components)\n",
    "\n",
    "    # 2. Transform every component\n",
    "    transformed_components = []\n",
    "    for component in dti_components:\n",
    "        transformed_component = ants.apply_transforms(fixed=fixed_image, \n",
    "                                                    moving=component, \n",
    "                                                    transformlist=fwd_transform_paths)\n",
    "        transformed_components.append(transformed_component)\n",
    "    transformed_dti_img = ants.merge_channels(transformed_components)\n",
    "\n",
    "    #print(transformed_dti_img)\n",
    "    \n",
    "    # 3. Reorient Image ?!\n",
    "    transf_reoriented_dti_img = reorient_tensor_image(patient, transformed_dti_img, warp)\n",
    "\n",
    "    return transf_reoriented_dti_img\n",
    "\n"
   ]
  },
  {
   "cell_type": "code",
   "execution_count": null,
   "metadata": {},
   "outputs": [
    {
     "name": "stdout",
     "output_type": "stream",
     "text": [
      "ANTsImage (RAI)\n",
      "\t Pixel Type : float (float32)\n",
      "\t Components : 6\n",
      "\t Dimensions : (240, 240, 155)\n",
      "\t Spacing    : (1.0, 1.0, 1.0)\n",
      "\t Origin     : (-0.0, -239.0, 0.0)\n",
      "\t Direction  : [1. 0. 0. 0. 1. 0. 0. 0. 1.]\n",
      "\n",
      "FIELD: /tmp/tmpra72alxz1Warp.nii.gz\n",
      "moving_image_filename: out/transformed_dti.nii.gz\n",
      "output_image_filename: out/transformed_rotated_dti.nii.gz\n",
      "[0/1]: FIELD: /tmp/tmpra72alxz1Warp.nii.gz\n",
      "Warp transform\n",
      "Iterating over image\n"
     ]
    }
   ],
   "source": [
    "transform_tensor_img(patient, tensor_image, transform)\n",
    "\n",
    "transformed_tensor_img = ants.image_read(\"out/transformed_dti.nii.gz\")\n",
    "transformed_rotated_tensor_img = ants.image_read(\"out/transformed_rotated_dti.nii.gz\")\n",
    "transformed_rotated_tensor_img_my = transform_tensor_img_my(patient, tensor_image, transform)\n",
    "\n",
    "print(transformed_tensor_img)\n",
    "print(transformed_rotated_tensor_img)\n",
    "print(transformed_rotated_tensor_img_my)\n"
   ]
  },
  {
   "cell_type": "code",
   "execution_count": null,
   "metadata": {},
   "outputs": [
    {
     "name": "stdout",
     "output_type": "stream",
     "text": [
      "COMPARISON\n",
      "===========\n",
      "[ 7.9277722e-04  1.2565321e-05  7.2602270e-05  8.7643380e-04\n",
      " -3.5774083e-05  9.1422425e-04]\n",
      "[ 7.8751025e-04  7.5883418e-06  7.0812632e-05  8.7899389e-04\n",
      " -3.2757089e-05  9.1693114e-04]\n",
      "[ 7.9277722e-04  1.2565321e-05  7.2602270e-05  8.7643380e-04\n",
      " -3.5774083e-05  9.1422425e-04]\n",
      "Comparing my method with the Ants method\n",
      "MSE:  1.0849995e-11\n",
      "MAE:  7.451862e-07 \n",
      "\n",
      "\n",
      "Comparing my method with the original tensor image\n",
      "MSE:  1.0849995e-11\n",
      "MAE:  7.451862e-07\n",
      "Comparing ANTS method with the original tensor image\n",
      "MSE:  1.0849995e-11\n",
      "MAE:  7.451862e-07\n"
     ]
    }
   ],
   "source": [
    "print(\"COMPARISON\\n===========\")\n",
    "\n",
    "x, y, z = 100, 100, 100\n",
    "\n",
    "transformed_tensor_arr = transformed_tensor_img.numpy()\n",
    "transformed_rotated_tensor_arr = transformed_rotated_tensor_img.numpy()\n",
    "transformed_rotated_tensor_arr_my = transformed_rotated_tensor_img_my.numpy()\n",
    "\n",
    "print(transformed_tensor_arr[x, y, z])\n",
    "print(transformed_rotated_tensor_arr[x, y, z])\n",
    "print(transformed_rotated_tensor_arr_my[x, y, z])\n",
    "\n",
    "print(\"Comparing my method with the Ants method\")\n",
    "print(\"MSE: \", np.mean(np.square(transformed_rotated_tensor_arr - transformed_rotated_tensor_arr_my)))\n",
    "print(\"MAE: \", np.mean(np.abs(transformed_rotated_tensor_arr - transformed_rotated_tensor_arr_my)), \"\\n\\n\")\n",
    "\n",
    "print(\"Comparing my method with the original tensor image\")\n",
    "print(\"MSE: \", np.mean(np.square(transformed_tensor_arr - transformed_rotated_tensor_arr_my)))\n",
    "print(\"MAE: \", np.mean(np.abs(transformed_tensor_arr - transformed_rotated_tensor_arr_my)))\n",
    "\n",
    "print(\"Comparing ANTS method with the original tensor image\")\n",
    "print(\"MSE: \", np.mean(np.square(transformed_tensor_arr - transformed_rotated_tensor_arr)))\n",
    "print(\"MAE: \", np.mean(np.abs(transformed_tensor_arr - transformed_rotated_tensor_arr)))"
   ]
  },
  {
   "cell_type": "code",
   "execution_count": null,
   "metadata": {},
   "outputs": [],
   "source": []
  }
 ],
 "metadata": {
  "kernelspec": {
   "display_name": ".venv",
   "language": "python",
   "name": "python3"
  },
  "language_info": {
   "codemirror_mode": {
    "name": "ipython",
    "version": 3
   },
   "file_extension": ".py",
   "mimetype": "text/x-python",
   "name": "python",
   "nbconvert_exporter": "python",
   "pygments_lexer": "ipython3",
   "version": "3.8.10"
  }
 },
 "nbformat": 4,
 "nbformat_minor": 2
}
